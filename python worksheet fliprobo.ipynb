{
 "cells": [
  {
   "cell_type": "markdown",
   "id": "25348ed1",
   "metadata": {},
   "source": [
    "# 11. Write a python program to find the factorial of a number.\n"
   ]
  },
  {
   "cell_type": "code",
   "execution_count": 10,
   "id": "b730da1d",
   "metadata": {},
   "outputs": [
    {
     "name": "stdout",
     "output_type": "stream",
     "text": [
      "Enter a number to find Factorial:7\n",
      "5040\n"
     ]
    }
   ],
   "source": [
    "def findFactorial_FlipRobo(n):\n",
    "    a = 1 if(n==0 or  n==1) else n* findFactorial_FlipRobo(n-1)\n",
    "    return a\n",
    "fact = int(input('Enter a number to find Factorial:'))\n",
    "ans = findFactorial_FlipRobo(fact)\n",
    "print(ans)"
   ]
  },
  {
   "cell_type": "markdown",
   "id": "f8710301",
   "metadata": {},
   "source": [
    "To find out Factorial of 0"
   ]
  },
  {
   "cell_type": "code",
   "execution_count": 12,
   "id": "452f65d2",
   "metadata": {},
   "outputs": [
    {
     "name": "stdout",
     "output_type": "stream",
     "text": [
      "Enter a number to find Factorial:0\n",
      "1\n"
     ]
    }
   ],
   "source": [
    "def findFactorial_FlipRobo(n):\n",
    "    a = 1 if(n==0 or  n==1) else n* findFactorial_FlipRobo(n-1)\n",
    "    return a\n",
    "fact = int(input('Enter a number to find Factorial:'))\n",
    "ans = findFactorial_FlipRobo(fact)\n",
    "print(ans)"
   ]
  },
  {
   "cell_type": "markdown",
   "id": "6e8329c2",
   "metadata": {},
   "source": [
    "To find out Factoril of 1"
   ]
  },
  {
   "cell_type": "code",
   "execution_count": null,
   "id": "5d0c20d7",
   "metadata": {},
   "outputs": [],
   "source": [
    "def findFactorial_FlipRobo(n):\n",
    "    a = 1 if(n==0 or  n==1) else n* findFactorial_FlipRobo(n-1)\n",
    "    return a\n",
    "fact = int(input('Enter a number to find Factorial:'))\n",
    "ans = findFactorial_FlipRobo(fact)\n",
    "print(ans)"
   ]
  },
  {
   "cell_type": "markdown",
   "id": "a299469c",
   "metadata": {},
   "source": [
    "# 12. Write a python program to find whether a number is prime or composite"
   ]
  },
  {
   "cell_type": "code",
   "execution_count": 13,
   "id": "c7b9fcd1",
   "metadata": {},
   "outputs": [
    {
     "name": "stdout",
     "output_type": "stream",
     "text": [
      "Enter any number : 6\n",
      "6 is NOT a prime number\n"
     ]
    }
   ],
   "source": [
    "num = int(input(\"Enter any number : \"))\n",
    "if num > 1:\n",
    "    for i in range(2, num):\n",
    "        if (num % i) == 0:\n",
    "            print(num, \"is NOT a prime number\")\n",
    "            break\n",
    "    else:\n",
    "        print(num, \"is a PRIME number\")\n",
    "elif num == 0 or 1:\n",
    "    print(num, \"is a neither prime NOR composite number\")\n",
    "else:\n",
    "    print(num, \"is NOT a prime number it is a COMPOSITE number\")"
   ]
  },
  {
   "cell_type": "code",
   "execution_count": 14,
   "id": "f8c4bd9c",
   "metadata": {},
   "outputs": [
    {
     "name": "stdout",
     "output_type": "stream",
     "text": [
      "29 is a prime number\n"
     ]
    }
   ],
   "source": [
    "# Program to check if a number is prime or not\n",
    "\n",
    "num = 29\n",
    "\n",
    "# To take input from the user\n",
    "#num = int(input(\"Enter a number: \"))\n",
    "\n",
    "# define a flag variable\n",
    "flag = False\n",
    "\n",
    "# prime numbers are greater than 1\n",
    "if num > 1:\n",
    "    # check for factors\n",
    "    for i in range(2, num):\n",
    "        if (num % i) == 0:\n",
    "            # if factor is found, set flag to True\n",
    "            flag = True\n",
    "            # break out of loop\n",
    "            break\n",
    "\n",
    "# check if flag is True\n",
    "if flag:\n",
    "    print(num, \"is not a prime number\")\n",
    "else:\n",
    "    print(num, \"is a prime number\")"
   ]
  },
  {
   "cell_type": "markdown",
   "id": "119ffe7f",
   "metadata": {},
   "source": [
    "# 13. Write a python program to check whether a given string is palindrome or not\n",
    "\n"
   ]
  },
  {
   "cell_type": "code",
   "execution_count": 17,
   "id": "b4c473b6",
   "metadata": {},
   "outputs": [],
   "source": [
    "# When the original string and reverse both are equal then that string said to be Palindrome. Example: naman if we reverse also ''\n",
    "# same spelling will come.\n",
    "#program to check whether the string is palindrome or string.\n",
    "# There are many methods are there now am using some methods to check whether the string is palindrome in my way."
   ]
  },
  {
   "cell_type": "code",
   "execution_count": 27,
   "id": "bd9f742d",
   "metadata": {},
   "outputs": [
    {
     "name": "stdout",
     "output_type": "stream",
     "text": [
      "Enter stringnaman\n",
      "String is palindrome\n"
     ]
    }
   ],
   "source": [
    "original = input(\"Enter string\")  #  using slicing method\n",
    "Reverse = original[::-1]\n",
    "if original==Reverse :\n",
    "    print('String is palindrome')\n",
    "else:\n",
    "    print('String is not palindrome')\n",
    "    \n",
    "    "
   ]
  },
  {
   "cell_type": "code",
   "execution_count": 31,
   "id": "3f22d78b",
   "metadata": {},
   "outputs": [
    {
     "name": "stdout",
     "output_type": "stream",
     "text": [
      "Enter string : madam\n",
      "String is not palindrome\n"
     ]
    }
   ],
   "source": [
    "original = input(\"Enter string : \")\n",
    "Reverse =' '\n",
    "for i in range(len(original)-1,-1,-1):\n",
    "    Reverse = Reverse+original[i]\n",
    "if original==Reverse :\n",
    "    print('String is palindrome')\n",
    "else:\n",
    "    print('String is not palindrome')  "
   ]
  },
  {
   "cell_type": "markdown",
   "id": "071f1769",
   "metadata": {},
   "source": [
    "# 14. Write a Python program to get the third side of right-angled triangle from two given sides"
   ]
  },
  {
   "cell_type": "code",
   "execution_count": 2,
   "id": "b88bf202",
   "metadata": {},
   "outputs": [
    {
     "name": "stdout",
     "output_type": "stream",
     "text": [
      "Hypotenuse = 5.0\n",
      "Adjacent = 4.0\n",
      "Opposite = 3.0\n",
      "You know the answer!\n"
     ]
    }
   ],
   "source": [
    "def pythagoras(opposite_side,adjacent_side,hypotenuse):\n",
    "        if opposite_side == str(\"x\"):\n",
    "            return (\"Opposite = \" + str(((hypotenuse**2) - (adjacent_side**2))**0.5))\n",
    "        elif adjacent_side == str(\"x\"):\n",
    "            return (\"Adjacent = \" + str(((hypotenuse**2) - (opposite_side**2))**0.5))\n",
    "        elif hypotenuse == str(\"x\"):\n",
    "            return (\"Hypotenuse = \" + str(((opposite_side**2) + (adjacent_side**2))**0.5))\n",
    "        else:\n",
    "            return \"You know the answer!\"\n",
    "    \n",
    "print(pythagoras(3,4,'x'))\n",
    "print(pythagoras(3,'x',5))\n",
    "print(pythagoras('x',4,5))\n",
    "print(pythagoras(3,4,5))\n"
   ]
  },
  {
   "cell_type": "code",
   "execution_count": 5,
   "id": "8e5eb60e",
   "metadata": {},
   "outputs": [
    {
     "name": "stdout",
     "output_type": "stream",
     "text": [
      "Enter base: 7\n",
      "Enter height: 8\n",
      "Enter angle: 70\n"
     ]
    },
    {
     "data": {
      "text/plain": [
       "10.63014581273465"
      ]
     },
     "execution_count": 5,
     "metadata": {},
     "output_type": "execute_result"
    }
   ],
   "source": [
    "import math\n",
    "\n",
    "a = float(input(\"Enter base: \"))\n",
    "b = float(input(\"Enter height: \"))\n",
    "x = float(input(\"Enter angle: \"))\n",
    "\n",
    "c = math.sqrt(a ** 2 + b ** 2)\n",
    "c"
   ]
  },
  {
   "cell_type": "markdown",
   "id": "173334f2",
   "metadata": {},
   "source": [
    "# 15. Write a python program to print the frequency of each of the characters present in a given string."
   ]
  },
  {
   "cell_type": "code",
   "execution_count": 9,
   "id": "80013275",
   "metadata": {},
   "outputs": [
    {
     "name": "stdout",
     "output_type": "stream",
     "text": [
      "Given String:  timeofeffort\n",
      "Frequency of each character :\n",
      "  {'t': 2, 'i': 1, 'm': 1, 'e': 2, 'o': 2, 'f': 3, 'r': 1}\n"
     ]
    }
   ],
   "source": [
    "from collections import Counter\n",
    "\n",
    "# Given string\n",
    "strA = \"timeofeffort\"\n",
    "print(\"Given String: \",strA)\n",
    "# Using counter\n",
    "res = {}\n",
    "\n",
    "for keys in strA:\n",
    "    res[keys] = res.get(keys, 0) + 1\n",
    "\n",
    "# Result\n",
    "print(\"Frequency of each character :\\n \",res)"
   ]
  },
  {
   "cell_type": "code",
   "execution_count": 8,
   "id": "a61fceb8",
   "metadata": {},
   "outputs": [
    {
     "name": "stdout",
     "output_type": "stream",
     "text": [
      "Given String:  timeofeffort\n",
      "Frequency of each character :\n",
      "  {'t': 2, 'i': 1, 'm': 1, 'e': 2, 'o': 2, 'f': 3, 'r': 1}\n"
     ]
    }
   ],
   "source": [
    "# Given string\n",
    "strA = \"timeofeffort\"\n",
    "print(\"Given String: \",strA)\n",
    "# Using counter\n",
    "res = {}\n",
    "\n",
    "for keys in strA:\n",
    "    res[keys] = res.get(keys, 0) + 1\n",
    "\n",
    "# Result\n",
    "print(\"Frequency of each character :\\n \",res)"
   ]
  },
  {
   "cell_type": "code",
   "execution_count": null,
   "id": "4526e35b",
   "metadata": {},
   "outputs": [],
   "source": []
  }
 ],
 "metadata": {
  "kernelspec": {
   "display_name": "Python 3",
   "language": "python",
   "name": "python3"
  },
  "language_info": {
   "codemirror_mode": {
    "name": "ipython",
    "version": 3
   },
   "file_extension": ".py",
   "mimetype": "text/x-python",
   "name": "python",
   "nbconvert_exporter": "python",
   "pygments_lexer": "ipython3",
   "version": "3.8.8"
  }
 },
 "nbformat": 4,
 "nbformat_minor": 5
}
